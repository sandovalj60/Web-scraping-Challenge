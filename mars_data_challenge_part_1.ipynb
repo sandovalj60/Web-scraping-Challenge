{
 "cells": [
  {
   "cell_type": "code",
   "execution_count": 1,
   "id": "595daf3c",
   "metadata": {},
   "outputs": [],
   "source": [
    "# Dependencies\n",
    "from bs4 import BeautifulSoup as bs\n",
    "import requests\n",
    "from splinter import Browser\n",
    "from webdriver_manager.chrome import ChromeDriverManager\n",
    "import time\n",
    "import pandas as pd"
   ]
  },
  {
   "cell_type": "code",
   "execution_count": 2,
   "id": "5d09d65b",
   "metadata": {},
   "outputs": [
    {
     "name": "stderr",
     "output_type": "stream",
     "text": [
      "[WDM] - Downloading: 100%|██████████| 6.68M/6.68M [00:03<00:00, 2.27MB/s]\n"
     ]
    }
   ],
   "source": [
    "# Setup splinter\n",
    "executable_path = {'executable_path': ChromeDriverManager().install()}\n",
    "browser = Browser('chrome', **executable_path, headless=False)"
   ]
  },
  {
   "cell_type": "code",
   "execution_count": 3,
   "id": "1e943e29",
   "metadata": {},
   "outputs": [],
   "source": [
    "# define url and browse\n",
    "url = 'https://redplanetscience.com/'\n",
    "browser.visit(url)"
   ]
  },
  {
   "cell_type": "code",
   "execution_count": 11,
   "id": "b8d216ae",
   "metadata": {},
   "outputs": [
    {
     "name": "stdout",
     "output_type": "stream",
     "text": [
      "----------------\n",
      "HiRISE Views NASA's InSight and Curiosity on Mars\n",
      "New images taken from space offer the clearest orbital glimpse yet of InSight as well as a view of Curiosity rolling along.\n",
      "----------------\n",
      "NASA's Mars Perseverance Rover Gets Its Sample Handling System\n",
      "The system will be collecting and storing Martian rock and soil. Its installation marks another milestone in the march toward the July launch period.\n",
      "----------------\n",
      "MOXIE Could Help Future Rockets Launch Off Mars\n",
      "NASA's Perseverance rover carries a device to convert Martian air into oxygen that, if produced on a larger scale, could be used not just for breathing, but also for fuel.\n",
      "----------------\n",
      "NASA Administrator Statement on Moon to Mars Initiative, FY 2021 Budget\n",
      "Jim Bridenstine addresses NASA's ambitious plans for the coming years, including Mars Sample Return.\n",
      "----------------\n",
      "NASA's Mars 2020 Rover Tests Descent-Stage Separation\n",
      "A crane lifts the rocket-powered descent stage away from NASA's Mars 2020 rover after technicians tested the pyrotechnic charges that separate the two spacecraft.\n",
      "----------------\n",
      "NASA's Mars Rover Drivers Need Your Help\n",
      "Using an online tool to label Martian terrain types, you can train an artificial intelligence algorithm that could improve the way engineers guide the Curiosity rover.\n",
      "----------------\n",
      "NASA's Perseverance Rover Is Midway to Mars \n",
      "Sometimes half measures can be a good thing – especially on a journey this long. The agency's latest rover only has about 146 million miles left to reach its destination.\n",
      "----------------\n",
      "Robotic Toolkit Added to NASA's Mars 2020 Rover\n",
      "The bit carousel, which lies at the heart of the rover's Sample Caching System, is now aboard NASA's newest rover. \n",
      "----------------\n",
      "NASA's Mars 2020 Heads Into the Test Chamber\n",
      "In this time-lapse video taken at JPL, engineers move the Mars 2020 rover into a large vacuum chamber for testing in Mars-like environmental conditions.\n",
      "----------------\n",
      "Heat and Dust Help Launch Martian Water Into Space, Scientists Find\n",
      "Scientists using an instrument aboard NASA’s Mars Atmosphere and Volatile EvolutioN, or MAVEN, spacecraft have discovered that water vapor near the surface of the Red Planet is lofted higher into the atmosphere than anyone expected was possible. \n",
      "----------------\n",
      "NASA, ULA Launch Mars 2020 Perseverance Rover Mission to Red Planet\n",
      "The agency's Mars 2020 mission is on its way. It will land at Jezero Crater in about seven months, on Feb. 18, 2021. \n",
      "----------------\n",
      "NASA Invites Students to Name Mars 2020 Rover\n",
      "Through Nov. 1, K-12 students in the U.S. are encouraged to enter an essay contest to name NASA's next Mars rover.\n",
      "----------------\n",
      "NASA's Perseverance Mars Rover Gets Its Wheels and Air Brakes\n",
      "After the rover was shipped from JPL to Kennedy Space Center, the team is getting closer to finalizing the spacecraft for launch later this summer.\n",
      "----------------\n",
      "NASA's New Mars Rover Will Use X-Rays to Hunt Fossils\n",
      "PIXL, an instrument on the end of the Perseverance rover's arm, will search for chemical fingerprints left by ancient microbes.\n",
      "----------------\n",
      "NASA's Mars 2020 Will Hunt for Microscopic Fossils\n",
      "A new paper identifies a ring of minerals at the rover's landing site that are ideal for fossilizing microbial life.\n"
     ]
    }
   ],
   "source": [
    "# find articles and loop through\n",
    "\n",
    "html = browser.html\n",
    "soup = bs(html, 'html.parser')\n",
    "\n",
    "articles = soup.find_all('div', class_='list_text')\n",
    "\n",
    "# create list to store dicts\n",
    "articles_list = []\n",
    "\n",
    "for article in articles:\n",
    "    # find title and preview per article\n",
    "    title = article.find('div', class_='content_title').text\n",
    "    preview = article.find('div', class_='article_teaser_body').text\n",
    "    \n",
    "    # print to check as the loop runs\n",
    "    print(\"----------------\")\n",
    "    print(title)\n",
    "    print(preview)\n",
    "\n",
    "    #store results in dict \n",
    "    articles_dict = {\n",
    "            'title' : title,\n",
    "                'preview' : preview \n",
    "    }\n",
    "\n",
    "    # append dict to list\n",
    "    articles_list.append(articles_dict)\n",
    "\n",
    "    # sleep so webpage doesn't block me\n",
    "    time.sleep(3)\n"
   ]
  },
  {
   "cell_type": "code",
   "execution_count": 12,
   "id": "f7b068a7",
   "metadata": {},
   "outputs": [
    {
     "data": {
      "text/plain": [
       "[{'title': \"HiRISE Views NASA's InSight and Curiosity on Mars\",\n",
       "  'preview': 'New images taken from space offer the clearest orbital glimpse yet of InSight as well as a view of Curiosity rolling along.'},\n",
       " {'title': \"NASA's Mars Perseverance Rover Gets Its Sample Handling System\",\n",
       "  'preview': 'The system will be collecting and storing Martian rock and soil. Its installation marks another milestone in the march toward the July launch period.'},\n",
       " {'title': 'MOXIE Could Help Future Rockets Launch Off Mars',\n",
       "  'preview': \"NASA's Perseverance rover carries a device to convert Martian air into oxygen that, if produced on a larger scale, could be used not just for breathing, but also for fuel.\"},\n",
       " {'title': 'NASA Administrator Statement on Moon to Mars Initiative, FY 2021 Budget',\n",
       "  'preview': \"Jim Bridenstine addresses NASA's ambitious plans for the coming years, including Mars Sample Return.\"},\n",
       " {'title': \"NASA's Mars 2020 Rover Tests Descent-Stage Separation\",\n",
       "  'preview': \"A crane lifts the rocket-powered descent stage away from NASA's Mars 2020 rover after technicians tested the pyrotechnic charges that separate the two spacecraft.\"},\n",
       " {'title': \"NASA's Mars Rover Drivers Need Your Help\",\n",
       "  'preview': 'Using an online tool to label Martian terrain types, you can train an artificial intelligence algorithm that could improve the way engineers guide the Curiosity rover.'},\n",
       " {'title': \"NASA's Perseverance Rover Is Midway to Mars \",\n",
       "  'preview': \"Sometimes half measures can be a good thing – especially on a journey this long. The agency's latest rover only has about 146 million miles left to reach its destination.\"},\n",
       " {'title': \"Robotic Toolkit Added to NASA's Mars 2020 Rover\",\n",
       "  'preview': \"The bit carousel, which lies at the heart of the rover's Sample Caching System, is now aboard NASA's newest rover. \"},\n",
       " {'title': \"NASA's Mars 2020 Heads Into the Test Chamber\",\n",
       "  'preview': 'In this time-lapse video taken at JPL, engineers move the Mars 2020 rover into a large vacuum chamber for testing in Mars-like environmental conditions.'},\n",
       " {'title': 'Heat and Dust Help Launch Martian Water Into Space, Scientists Find',\n",
       "  'preview': 'Scientists using an instrument aboard NASA’s Mars Atmosphere and Volatile EvolutioN, or MAVEN, spacecraft have discovered that water vapor near the surface of the Red Planet is lofted higher into the atmosphere than anyone expected was possible. '},\n",
       " {'title': 'NASA, ULA Launch Mars 2020 Perseverance Rover Mission to Red Planet',\n",
       "  'preview': \"The agency's Mars 2020 mission is on its way. It will land at Jezero Crater in about seven months, on Feb. 18, 2021. \"},\n",
       " {'title': 'NASA Invites Students to Name Mars 2020 Rover',\n",
       "  'preview': \"Through Nov. 1, K-12 students in the U.S. are encouraged to enter an essay contest to name NASA's next Mars rover.\"},\n",
       " {'title': \"NASA's Perseverance Mars Rover Gets Its Wheels and Air Brakes\",\n",
       "  'preview': 'After the rover was shipped from JPL to Kennedy Space Center, the team is getting closer to finalizing the spacecraft for launch later this summer.'},\n",
       " {'title': \"NASA's New Mars Rover Will Use X-Rays to Hunt Fossils\",\n",
       "  'preview': \"PIXL, an instrument on the end of the Perseverance rover's arm, will search for chemical fingerprints left by ancient microbes.\"},\n",
       " {'title': \"NASA's Mars 2020 Will Hunt for Microscopic Fossils\",\n",
       "  'preview': \"A new paper identifies a ring of minerals at the rover's landing site that are ideal for fossilizing microbial life.\"}]"
      ]
     },
     "execution_count": 12,
     "metadata": {},
     "output_type": "execute_result"
    }
   ],
   "source": [
    "# print python list\n",
    "articles_list"
   ]
  },
  {
   "cell_type": "code",
   "execution_count": 13,
   "id": "660c5be8",
   "metadata": {},
   "outputs": [],
   "source": [
    "browser.quit()"
   ]
  },
  {
   "cell_type": "code",
   "execution_count": null,
   "id": "08bda6b6",
   "metadata": {},
   "outputs": [],
   "source": [
    "# finito"
   ]
  }
 ],
 "metadata": {
  "kernelspec": {
   "display_name": "Python 3.7.7 ('PythonData')",
   "language": "python",
   "name": "python3"
  },
  "language_info": {
   "codemirror_mode": {
    "name": "ipython",
    "version": 3
   },
   "file_extension": ".py",
   "mimetype": "text/x-python",
   "name": "python",
   "nbconvert_exporter": "python",
   "pygments_lexer": "ipython3",
   "version": "3.7.7"
  },
  "vscode": {
   "interpreter": {
    "hash": "be8716887e1273d8dd633286d773dd1af722dd2ac4bd8eaa7868f55656b9d9b4"
   }
  }
 },
 "nbformat": 4,
 "nbformat_minor": 5
}
